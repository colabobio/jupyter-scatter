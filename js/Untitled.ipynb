{
 "cells": [
  {
   "cell_type": "code",
   "execution_count": 1,
   "id": "e89ecd93-cc9a-4ea3-8757-60dbc7ef7ef7",
   "metadata": {},
   "outputs": [
    {
     "name": "stdout",
     "output_type": "stream",
     "text": [
      "env: ANYWIDGET_HMR=1\n"
     ]
    }
   ],
   "source": [
    "%env ANYWIDGET_HMR=1"
   ]
  },
  {
   "cell_type": "code",
   "execution_count": 2,
   "id": "e7185dcf-59a2-4935-82bf-adf03343aeb9",
   "metadata": {},
   "outputs": [],
   "source": [
    "%load_ext autoreload"
   ]
  },
  {
   "cell_type": "code",
   "execution_count": 6,
   "id": "94a44328-e9d9-4d23-9de8-0675159e136b",
   "metadata": {},
   "outputs": [
    {
     "data": {
      "application/vnd.jupyter.widget-view+json": {
       "model_id": "85d59a3e5acb42c2aa45622bcc82ef13",
       "version_major": 2,
       "version_minor": 0
      },
      "text/plain": [
       "HBox(children=(VBox(children=(Button(button_style='primary', icon='arrows', layout=Layout(width='36px'), style…"
      ]
     },
     "execution_count": 6,
     "metadata": {},
     "output_type": "execute_result"
    }
   ],
   "source": [
    "import jscatter\n",
    "import numpy as np\n",
    "\n",
    "x = np.random.rand(500)\n",
    "y = np.random.rand(500)\n",
    "\n",
    "p = jscatter.plot(x, y)\n",
    "p"
   ]
  },
  {
   "cell_type": "code",
   "execution_count": null,
   "id": "2f5dec55-13aa-4644-b10e-c86d3c4f177b",
   "metadata": {},
   "outputs": [],
   "source": [
    "p.children[1].children[0].center_positions"
   ]
  },
  {
   "cell_type": "code",
   "execution_count": 11,
   "id": "653b8122-0ed6-4368-bb3e-4300541c8532",
   "metadata": {
    "tags": []
   },
   "outputs": [
    {
     "data": {
      "text/plain": [
       "[]"
      ]
     },
     "execution_count": 11,
     "metadata": {},
     "output_type": "execute_result"
    }
   ],
   "source": [
    "p.children[1].children[0].dir_center_positions"
   ]
  },
  {
   "cell_type": "code",
   "execution_count": null,
   "id": "ae030175-4862-42ce-a9dd-0abac1362ffd",
   "metadata": {},
   "outputs": [],
   "source": []
  }
 ],
 "metadata": {
  "kernelspec": {
   "display_name": "Python 3 (ipykernel)",
   "language": "python",
   "name": "python3"
  },
  "language_info": {
   "codemirror_mode": {
    "name": "ipython",
    "version": 3
   },
   "file_extension": ".py",
   "mimetype": "text/x-python",
   "name": "python",
   "nbconvert_exporter": "python",
   "pygments_lexer": "ipython3",
   "version": "3.11.4"
  }
 },
 "nbformat": 4,
 "nbformat_minor": 5
}
