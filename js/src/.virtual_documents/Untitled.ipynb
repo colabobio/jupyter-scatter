%env ANYWIDGET_HMR=1


%load_ext autoreload


import jscatter
import numpy as np

x = np.random.rand(500)
y = np.random.rand(500)

jscatter.plot(x, y)



