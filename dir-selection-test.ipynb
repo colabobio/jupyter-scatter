{
 "cells": [
  {
   "cell_type": "code",
   "execution_count": 8,
   "id": "18332802-f712-4ff7-b5f8-e015ed891692",
   "metadata": {
    "tags": []
   },
   "outputs": [
    {
     "name": "stdout",
     "output_type": "stream",
     "text": [
      "env: ANYWIDGET_HMR=1\n",
      "The autoreload extension is already loaded. To reload it, use:\n",
      "  %reload_ext autoreload\n"
     ]
    }
   ],
   "source": [
    "%env ANYWIDGET_HMR=1\n",
    "%load_ext autoreload\n",
    "%autoreload 2"
   ]
  },
  {
   "cell_type": "code",
   "execution_count": 9,
   "id": "9dc3fee9-2fbc-4087-b11e-6db411924853",
   "metadata": {
    "tags": []
   },
   "outputs": [
    {
     "data": {
      "application/vnd.jupyter.widget-view+json": {
       "model_id": "995784488b98491f92b506dd78098e58",
       "version_major": 2,
       "version_minor": 0
      },
      "text/plain": [
       "HBox(children=(VBox(children=(Button(button_style='primary', icon='arrows', layout=Layout(width='36px'), style…"
      ]
     },
     "execution_count": 9,
     "metadata": {},
     "output_type": "execute_result"
    }
   ],
   "source": [
    "import jscatter\n",
    "import numpy as np\n",
    "\n",
    "x = np.random.rand(500)\n",
    "y = np.random.rand(500)\n",
    "\n",
    "p = jscatter.plot(x, y)\n",
    "p"
   ]
  },
  {
   "cell_type": "code",
   "execution_count": 11,
   "id": "e7a8c7fa-e5db-4d6f-8afb-bf7e360041fc",
   "metadata": {
    "tags": []
   },
   "outputs": [
    {
     "data": {
      "text/plain": [
       "[[-0.9416666077785804, 0.32499999999999996],\n",
       " [-0.9333332749663806, 0.3416666666666667],\n",
       " [-0.9083332765297811, 0.3583333333333333],\n",
       " [-0.866666612468782, 0.3916666666666667],\n",
       " [-0.8083332827833833, 0.43333333333333335],\n",
       " [-0.7416666202857847, 0.4666666666666667],\n",
       " [-0.666666624975986, 0.4833333333333333],\n",
       " [-0.6083332952905874, 0.4916666666666667],\n",
       " [-0.574999964041788, 0.4916666666666667],\n",
       " [-0.533333299980789, 0.475],\n",
       " [-0.5083333015441893, 0.4],\n",
       " [-0.4666666374831904, 0.23333333333333328],\n",
       " [-0.41666664060999126, -0.02499999999999991],\n",
       " [-0.35833331092459264, -0.31666666666666665],\n",
       " [-0.3249999796757932, -0.55],\n",
       " [-0.3166666468635934, -0.6916666666666667],\n",
       " [-0.3083333140513937, -0.7833333333333334],\n",
       " [-0.2999999812391937, -0.8333333333333333],\n",
       " [-0.3249999796757932, -0.8583333333333334],\n",
       " [-0.3916666421733918, -0.8583333333333334],\n",
       " [-0.4833333031075899, -0.8333333333333333],\n",
       " [-0.5916666296661877, -0.7749999999999999],\n",
       " [-0.6999999562247855, -0.6916666666666667],\n",
       " [-0.7749999515345839, -0.6083333333333334],\n",
       " [-0.8083332827833833, -0.55],\n",
       " [-0.8333332812199827, -0.4916666666666667],\n",
       " [-0.8416666140321825, -0.44166666666666665],\n",
       " [-0.8416666140321825, -0.40833333333333344],\n",
       " [-0.8416666140321825, -0.3833333333333333],\n",
       " [-0.8333332812199827, -0.3583333333333334]]"
      ]
     },
     "execution_count": 11,
     "metadata": {},
     "output_type": "execute_result"
    }
   ],
   "source": [
    "p.children[1].children[0].center_positions"
   ]
  },
  {
   "cell_type": "code",
   "execution_count": null,
   "id": "cac868bb-0761-4b97-b8fd-a4ee776a2e16",
   "metadata": {},
   "outputs": [],
   "source": []
  }
 ],
 "metadata": {
  "kernelspec": {
   "display_name": "Python 3 (ipykernel)",
   "language": "python",
   "name": "python3"
  },
  "language_info": {
   "codemirror_mode": {
    "name": "ipython",
    "version": 3
   },
   "file_extension": ".py",
   "mimetype": "text/x-python",
   "name": "python",
   "nbconvert_exporter": "python",
   "pygments_lexer": "ipython3",
   "version": "3.11.8"
  }
 },
 "nbformat": 4,
 "nbformat_minor": 5
}
