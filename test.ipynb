{
 "cells": [
  {
   "cell_type": "code",
   "execution_count": 2,
   "id": "a22bba6f-8c9f-46db-9427-3e5264b969a2",
   "metadata": {},
   "outputs": [
    {
     "data": {
      "application/vnd.jupyter.widget-view+json": {
       "model_id": "4ea0dbc98a7b459ca9f6f1eaa03de23f",
       "version_major": 2,
       "version_minor": 0
      },
      "text/plain": [
       "HBox(children=(VBox(children=(Button(button_style='primary', icon='arrows', layout=Layout(width='36px'), style…"
      ]
     },
     "execution_count": 2,
     "metadata": {},
     "output_type": "execute_result"
    }
   ],
   "source": [
    "import jscatter\n",
    "import numpy as np\n",
    "\n",
    "x = np.random.rand(500)\n",
    "y = np.random.rand(500)\n",
    "\n",
    "jscatter.plot(x, y, axes_grid=True)"
   ]
  },
  {
   "cell_type": "code",
   "execution_count": 4,
   "id": "1adfc22f-ae88-45e2-ae5c-38fce2fb0a0b",
   "metadata": {},
   "outputs": [
    {
     "data": {
      "application/vnd.jupyter.widget-view+json": {
       "model_id": "0ea58dc78877429aab8d5888879415e2",
       "version_major": 2,
       "version_minor": 0
      },
      "text/plain": [
       "HBox(children=(VBox(children=(Button(button_style='primary', icon='arrows', layout=Layout(width='36px'), style…"
      ]
     },
     "execution_count": 4,
     "metadata": {},
     "output_type": "execute_result"
    }
   ],
   "source": [
    "import pandas as pd\n",
    "\n",
    "data = np.random.rand(500, 4)\n",
    "\n",
    "df = pd.DataFrame(data, columns=['mass', 'speed', 'pval', 'group'])\n",
    "df['group'] = df['group'].map(lambda c: chr(65 + round(c)), na_action=None)\n",
    "\n",
    "jscatter.plot(data=df, x='mass', y='speed')"
   ]
  },
  {
   "cell_type": "code",
   "execution_count": 5,
   "id": "092936f2-806c-47b2-8569-2dfcbaa8ffb6",
   "metadata": {},
   "outputs": [
    {
     "name": "stderr",
     "output_type": "stream",
     "text": [
      "/Users/andres/code/sciviewer/jupyter-scatter/jscatter/jscatter.py:43: FutureWarning: is_categorical_dtype is deprecated and will be removed in a future version. Use isinstance(dtype, CategoricalDtype) instead\n",
      "  if not any([check(series.dtype) for check in VALID_ENCODING_TYPES]):\n",
      "/Users/andres/code/sciviewer/jupyter-scatter/jscatter/jscatter.py:52: FutureWarning: is_categorical_dtype is deprecated and will be removed in a future version. Use isinstance(dtype, CategoricalDtype) instead\n",
      "  if pd.api.types.is_categorical_dtype(data):\n"
     ]
    },
    {
     "data": {
      "application/vnd.jupyter.widget-view+json": {
       "model_id": "5fa66762a9044dc3a581fd94af929337",
       "version_major": 2,
       "version_minor": 0
      },
      "text/plain": [
       "HBox(children=(VBox(children=(Button(button_style='primary', icon='arrows', layout=Layout(width='36px'), style…"
      ]
     },
     "execution_count": 5,
     "metadata": {},
     "output_type": "execute_result"
    }
   ],
   "source": [
    "scatter = jscatter.Scatter(data=df, x='mass', y='speed')\n",
    "scatter.selection(df.query('mass < 0.5').index)\n",
    "scatter.color(by='mass', map='plasma', order='reverse')\n",
    "scatter.opacity(by='density')\n",
    "scatter.size(by='pval', map=[2, 4, 6, 8, 10])\n",
    "scatter.legend(True)\n",
    "scatter.height(300)\n",
    "scatter.background('black')\n",
    "scatter.show()"
   ]
  },
  {
   "cell_type": "code",
   "execution_count": null,
   "id": "fbfabf0d-6c9a-42cc-a035-9572e71594e6",
   "metadata": {},
   "outputs": [],
   "source": []
  }
 ],
 "metadata": {
  "kernelspec": {
   "display_name": "Python 3 (ipykernel)",
   "language": "python",
   "name": "python3"
  },
  "language_info": {
   "codemirror_mode": {
    "name": "ipython",
    "version": 3
   },
   "file_extension": ".py",
   "mimetype": "text/x-python",
   "name": "python",
   "nbconvert_exporter": "python",
   "pygments_lexer": "ipython3",
   "version": "3.11.5"
  }
 },
 "nbformat": 4,
 "nbformat_minor": 5
}
