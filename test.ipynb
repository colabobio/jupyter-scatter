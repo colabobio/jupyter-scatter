{
 "cells": [
  {
   "cell_type": "code",
   "execution_count": 1,
   "id": "a22bba6f-8c9f-46db-9427-3e5264b969a2",
   "metadata": {},
   "outputs": [],
   "source": [
    "import jscatter\n",
    "import numpy as np"
   ]
  },
  {
   "cell_type": "code",
   "execution_count": 2,
   "id": "13bbba83-033b-4b9a-9bfa-08ef4eabf22d",
   "metadata": {},
   "outputs": [
    {
     "data": {
      "application/vnd.jupyter.widget-view+json": {
       "model_id": "5c0e986601a44c4cbf2b9c0b6301b7f1",
       "version_major": 2,
       "version_minor": 0
      },
      "text/plain": [
       "HBox(children=(VBox(children=(Button(button_style='primary', icon='arrows', layout=Layout(width='36px'), style…"
      ]
     },
     "execution_count": 2,
     "metadata": {},
     "output_type": "execute_result"
    }
   ],
   "source": [
    "x = np.random.rand(500)\n",
    "y = np.random.rand(500)\n",
    "\n",
    "jscatter.plot(x, y, height=400, axes_grid=True)"
   ]
  },
  {
   "cell_type": "code",
   "execution_count": 13,
   "id": "1adfc22f-ae88-45e2-ae5c-38fce2fb0a0b",
   "metadata": {},
   "outputs": [
    {
     "data": {
      "application/vnd.jupyter.widget-view+json": {
       "model_id": "6b7feee309664f1b9f2bbaeb57c0a009",
       "version_major": 2,
       "version_minor": 0
      },
      "text/plain": [
       "HBox(children=(VBox(children=(Button(button_style='primary', icon='arrows', layout=Layout(width='36px'), style…"
      ]
     },
     "execution_count": 13,
     "metadata": {},
     "output_type": "execute_result"
    }
   ],
   "source": [
    "import pandas as pd\n",
    "\n",
    "data = np.random.rand(500, 4)\n",
    "\n",
    "df = pd.DataFrame(data, columns=['mass', 'speed', 'pval', 'group'])\n",
    "df['group'] = df['group'].map(lambda c: chr(65 + round(c)), na_action=None)\n",
    "\n",
    "jscatter.plot(data=df, x='mass', y='speed', height=400)"
   ]
  },
  {
   "cell_type": "code",
   "execution_count": 14,
   "id": "092936f2-806c-47b2-8569-2dfcbaa8ffb6",
   "metadata": {},
   "outputs": [
    {
     "data": {
      "application/vnd.jupyter.widget-view+json": {
       "model_id": "42a028faad5743e582f3da8cf0a3ead9",
       "version_major": 2,
       "version_minor": 0
      },
      "text/plain": [
       "HBox(children=(VBox(children=(Button(button_style='primary', icon='arrows', layout=Layout(width='36px'), style…"
      ]
     },
     "execution_count": 14,
     "metadata": {},
     "output_type": "execute_result"
    }
   ],
   "source": [
    "scatter = jscatter.Scatter(data=df, x='mass', y='speed')\n",
    "scatter.selection(df.query('mass < 0.5').index)\n",
    "scatter.color(by='mass', map='plasma', order='reverse')\n",
    "scatter.opacity(by='density')\n",
    "scatter.size(by='pval', map=[2, 4, 6, 8, 10])\n",
    "scatter.legend(True)\n",
    "scatter.height(640)\n",
    "scatter.background('black')\n",
    "scatter.show()"
   ]
  },
  {
   "cell_type": "code",
   "execution_count": 5,
   "id": "fbfabf0d-6c9a-42cc-a035-9572e71594e6",
   "metadata": {},
   "outputs": [
    {
     "data": {
      "text/plain": [
       "<jscatter.jscatter.Scatter at 0x10b41fe10>"
      ]
     },
     "execution_count": 5,
     "metadata": {},
     "output_type": "execute_result"
    }
   ],
   "source": [
    "scatter.xy(x='speed', y='mass')"
   ]
  },
  {
   "cell_type": "code",
   "execution_count": 6,
   "id": "f8bb9406-1695-4f97-8351-45430635deed",
   "metadata": {},
   "outputs": [
    {
     "data": {
      "text/plain": [
       "array([251,  41, 278, 354, 488, 390, 208, 436, 392, 223, 184, 128, 284,\n",
       "        39, 138, 458, 245,  40], dtype=uint32)"
      ]
     },
     "execution_count": 6,
     "metadata": {},
     "output_type": "execute_result"
    }
   ],
   "source": [
    "scatter.selection()"
   ]
  },
  {
   "cell_type": "code",
   "execution_count": 7,
   "id": "404a5b81-a36c-40f9-aa05-fbe3ab8b238a",
   "metadata": {},
   "outputs": [
    {
     "data": {
      "application/vnd.jupyter.widget-view+json": {
       "model_id": "e6f54e093341403d9d7468cf17d2d972",
       "version_major": 2,
       "version_minor": 0
      },
      "text/plain": [
       "GridBox(children=(HBox(children=(VBox(children=(Button(button_style='primary', icon='arrows', layout=Layout(wi…"
      ]
     },
     "execution_count": 7,
     "metadata": {},
     "output_type": "execute_result"
    }
   ],
   "source": [
    "jscatter.link([\n",
    "    jscatter.Scatter(x=x, y=y),\n",
    "    jscatter.Scatter(x=x, y=y)\n",
    "])"
   ]
  },
  {
   "cell_type": "code",
   "execution_count": null,
   "id": "1b57baea-cea9-497d-a0e9-37ab56b7bad2",
   "metadata": {},
   "outputs": [],
   "source": []
  }
 ],
 "metadata": {
  "kernelspec": {
   "display_name": "Python 3 (ipykernel)",
   "language": "python",
   "name": "python3"
  },
  "language_info": {
   "codemirror_mode": {
    "name": "ipython",
    "version": 3
   },
   "file_extension": ".py",
   "mimetype": "text/x-python",
   "name": "python",
   "nbconvert_exporter": "python",
   "pygments_lexer": "ipython3",
   "version": "3.9.19"
  }
 },
 "nbformat": 4,
 "nbformat_minor": 5
}
